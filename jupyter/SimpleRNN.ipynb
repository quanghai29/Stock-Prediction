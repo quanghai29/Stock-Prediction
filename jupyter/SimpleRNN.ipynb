{
 "cells": [
  {
   "cell_type": "markdown",
   "id": "424ac7bd",
   "metadata": {},
   "source": [
    "## Import"
   ]
  },
  {
   "cell_type": "code",
   "execution_count": 56,
   "id": "bdda338f",
   "metadata": {
    "scrolled": true
   },
   "outputs": [],
   "source": [
    "import numpy as np\n",
    "import pandas as pd\n",
    "import matplotlib.pyplot as plt\n",
    "%matplotlib inline\n",
    "\n",
    "from matplotlib.pylab import rcParams\n",
    "rcParams['figure.figsize']=20,10\n",
    "\n",
    "from sklearn.preprocessing import MinMaxScaler\n",
    "from keras.models import Sequential, load_model\n",
    "from keras.layers import LSTM, Dense, Dropout, SimpleRNN\n",
    "import os"
   ]
  },
  {
   "cell_type": "markdown",
   "id": "add3f8b1",
   "metadata": {},
   "source": [
    "## Load data"
   ]
  },
  {
   "cell_type": "code",
   "execution_count": 74,
   "id": "7aec37b0",
   "metadata": {},
   "outputs": [
    {
     "data": {
      "text/html": [
       "<div>\n",
       "<style scoped>\n",
       "    .dataframe tbody tr th:only-of-type {\n",
       "        vertical-align: middle;\n",
       "    }\n",
       "\n",
       "    .dataframe tbody tr th {\n",
       "        vertical-align: top;\n",
       "    }\n",
       "\n",
       "    .dataframe thead th {\n",
       "        text-align: right;\n",
       "    }\n",
       "</style>\n",
       "<table border=\"1\" class=\"dataframe\">\n",
       "  <thead>\n",
       "    <tr style=\"text-align: right;\">\n",
       "      <th></th>\n",
       "      <th>Date</th>\n",
       "      <th>Open</th>\n",
       "      <th>High</th>\n",
       "      <th>Low</th>\n",
       "      <th>Last</th>\n",
       "      <th>Close</th>\n",
       "      <th>Total Trade Quantity</th>\n",
       "      <th>Turnover (Lacs)</th>\n",
       "    </tr>\n",
       "  </thead>\n",
       "  <tbody>\n",
       "    <tr>\n",
       "      <th>0</th>\n",
       "      <td>2019-01-04</td>\n",
       "      <td>210.60</td>\n",
       "      <td>214.90</td>\n",
       "      <td>210.00</td>\n",
       "      <td>213.50</td>\n",
       "      <td>213.80</td>\n",
       "      <td>1213181</td>\n",
       "      <td>2583.05</td>\n",
       "    </tr>\n",
       "    <tr>\n",
       "      <th>1</th>\n",
       "      <td>2019-01-03</td>\n",
       "      <td>214.95</td>\n",
       "      <td>215.35</td>\n",
       "      <td>209.90</td>\n",
       "      <td>210.55</td>\n",
       "      <td>210.05</td>\n",
       "      <td>2096553</td>\n",
       "      <td>4433.50</td>\n",
       "    </tr>\n",
       "    <tr>\n",
       "      <th>2</th>\n",
       "      <td>2019-01-02</td>\n",
       "      <td>219.00</td>\n",
       "      <td>220.35</td>\n",
       "      <td>213.60</td>\n",
       "      <td>214.20</td>\n",
       "      <td>214.60</td>\n",
       "      <td>1081778</td>\n",
       "      <td>2340.31</td>\n",
       "    </tr>\n",
       "    <tr>\n",
       "      <th>3</th>\n",
       "      <td>2019-01-01</td>\n",
       "      <td>219.95</td>\n",
       "      <td>221.05</td>\n",
       "      <td>218.05</td>\n",
       "      <td>218.95</td>\n",
       "      <td>219.10</td>\n",
       "      <td>716275</td>\n",
       "      <td>1571.63</td>\n",
       "    </tr>\n",
       "    <tr>\n",
       "      <th>4</th>\n",
       "      <td>2018-12-31</td>\n",
       "      <td>222.00</td>\n",
       "      <td>223.65</td>\n",
       "      <td>218.85</td>\n",
       "      <td>219.55</td>\n",
       "      <td>219.40</td>\n",
       "      <td>965858</td>\n",
       "      <td>2131.09</td>\n",
       "    </tr>\n",
       "  </tbody>\n",
       "</table>\n",
       "</div>"
      ],
      "text/plain": [
       "         Date    Open    High     Low    Last   Close  Total Trade Quantity  \\\n",
       "0  2019-01-04  210.60  214.90  210.00  213.50  213.80               1213181   \n",
       "1  2019-01-03  214.95  215.35  209.90  210.55  210.05               2096553   \n",
       "2  2019-01-02  219.00  220.35  213.60  214.20  214.60               1081778   \n",
       "3  2019-01-01  219.95  221.05  218.05  218.95  219.10                716275   \n",
       "4  2018-12-31  222.00  223.65  218.85  219.55  219.40                965858   \n",
       "\n",
       "   Turnover (Lacs)  \n",
       "0          2583.05  \n",
       "1          4433.50  \n",
       "2          2340.31  \n",
       "3          1571.63  \n",
       "4          2131.09  "
      ]
     },
     "execution_count": 74,
     "metadata": {},
     "output_type": "execute_result"
    }
   ],
   "source": [
    "df = pd.read_csv(\"NSE-TATA.csv\")\n",
    "df.head()"
   ]
  },
  {
   "cell_type": "markdown",
   "id": "ba2a2128",
   "metadata": {},
   "source": [
    "## Preprocessing and Feature Extraction"
   ]
  },
  {
   "cell_type": "code",
   "execution_count": 75,
   "id": "da18de93",
   "metadata": {},
   "outputs": [
    {
     "name": "stdout",
     "output_type": "stream",
     "text": [
      "                     Date   Close\n",
      "0     2010-07-21 00:00:00  121.55\n",
      "1     2010-07-22 00:00:00   120.9\n",
      "2     2010-07-23 00:00:00  120.65\n",
      "3     2010-07-26 00:00:00   117.6\n",
      "4     2010-07-27 00:00:00  118.65\n",
      "...                   ...     ...\n",
      "2095  2018-12-31 00:00:00   219.4\n",
      "2096  2019-01-01 00:00:00   219.1\n",
      "2097  2019-01-02 00:00:00   214.6\n",
      "2098  2019-01-03 00:00:00  210.05\n",
      "2099  2019-01-04 00:00:00   213.8\n",
      "\n",
      "[2100 rows x 2 columns]\n"
     ]
    }
   ],
   "source": [
    "# test \n",
    "df[\"Date\"]=pd.to_datetime(df.Date,format=\"%Y/%m/%d\")\n",
    "df.index=df['Date']\n",
    "\n",
    "data=df.sort_index(ascending=True,axis=0)\n",
    "new_dataset=pd.DataFrame(index=range(0,len(df)),columns=['Date','Close'])\n",
    "for i in range(0,len(data)):\n",
    "    new_dataset[\"Date\"][i]=data['Date'][i]\n",
    "    new_dataset[\"Close\"][i]=data[\"Close\"][i]\n",
    "print(new_dataset)"
   ]
  },
  {
   "cell_type": "code",
   "execution_count": 76,
   "id": "b6437eec",
   "metadata": {},
   "outputs": [
    {
     "name": "stdout",
     "output_type": "stream",
     "text": [
      "             Close\n",
      "Date              \n",
      "2010-07-21  121.55\n",
      "2010-07-22   120.9\n",
      "2010-07-23  120.65\n",
      "2010-07-26   117.6\n",
      "2010-07-27  118.65\n",
      "...            ...\n",
      "2018-12-31   219.4\n",
      "2019-01-01   219.1\n",
      "2019-01-02   214.6\n",
      "2019-01-03  210.05\n",
      "2019-01-04   213.8\n",
      "\n",
      "[2100 rows x 1 columns]\n",
      "[[121.55]\n",
      " [120.9]\n",
      " [120.65]\n",
      " ...\n",
      " [214.6]\n",
      " [210.05]\n",
      " [213.8]]\n"
     ]
    }
   ],
   "source": [
    "new_dataset.index=new_dataset.Date\n",
    "new_dataset.drop(\"Date\",axis=1,inplace=True)\n",
    "print(new_dataset)\n",
    "\n",
    "final_dataset=new_dataset.values\n",
    "print(final_dataset)"
   ]
  },
  {
   "cell_type": "code",
   "execution_count": 60,
   "id": "ddba6c06",
   "metadata": {},
   "outputs": [],
   "source": [
    "# df = df['Close'].values\n",
    "# df = df.reshape(-1, 1)\n",
    "# print(df.shape)\n",
    "# df[:5]"
   ]
  },
  {
   "cell_type": "code",
   "execution_count": 61,
   "id": "0cac0a51",
   "metadata": {},
   "outputs": [
    {
     "name": "stdout",
     "output_type": "stream",
     "text": [
      "(1680, 1)\n",
      "(420, 1)\n"
     ]
    }
   ],
   "source": [
    "dataset_train = np.array(final_dataset[:int(final_dataset.shape[0]*0.8)])\n",
    "dataset_test = np.array(final_dataset[int(final_dataset.shape[0]*0.8):])\n",
    "print(dataset_train.shape)\n",
    "print(dataset_test.shape)"
   ]
  },
  {
   "cell_type": "code",
   "execution_count": 62,
   "id": "89bf05d6",
   "metadata": {},
   "outputs": [
    {
     "data": {
      "text/plain": [
       "array([[0.41470889],\n",
       "       [0.40806946],\n",
       "       [0.40551583],\n",
       "       [0.37436159],\n",
       "       [0.38508682]])"
      ]
     },
     "execution_count": 62,
     "metadata": {},
     "output_type": "execute_result"
    }
   ],
   "source": [
    "scaler = MinMaxScaler(feature_range=(0,1))\n",
    "dataset_train = scaler.fit_transform(dataset_train)\n",
    "dataset_train[:5]"
   ]
  },
  {
   "cell_type": "code",
   "execution_count": 63,
   "id": "d1d9e9c9",
   "metadata": {},
   "outputs": [
    {
     "data": {
      "text/plain": [
       "array([[0.726762  ],\n",
       "       [0.73697651],\n",
       "       [0.78396323],\n",
       "       [0.76864147],\n",
       "       [0.75995914]])"
      ]
     },
     "execution_count": 63,
     "metadata": {},
     "output_type": "execute_result"
    }
   ],
   "source": [
    "dataset_test = scaler.transform(dataset_test)\n",
    "dataset_test[:5]"
   ]
  },
  {
   "cell_type": "code",
   "execution_count": 64,
   "id": "d5b0c9cd",
   "metadata": {},
   "outputs": [],
   "source": [
    "def create_dataset(final_dataset):\n",
    "    x = []\n",
    "    y = []\n",
    "    for i in range(60, final_dataset.shape[0]):\n",
    "        x.append(final_dataset[i-60:i, 0])\n",
    "        y.append(final_dataset[i, 0])\n",
    "    x = np.array(x)\n",
    "    y = np.array(y)\n",
    "    return x,y"
   ]
  },
  {
   "cell_type": "code",
   "execution_count": 65,
   "id": "1e1b8bf5",
   "metadata": {},
   "outputs": [
    {
     "data": {
      "text/plain": [
       "array([[0.41470889, 0.40806946, 0.40551583, 0.37436159, 0.38508682,\n",
       "        0.38100102, 0.36414709, 0.35852911, 0.37129724, 0.38151175,\n",
       "        0.36312564, 0.3381001 , 0.31818182, 0.3258427 , 0.32022472,\n",
       "        0.33656793, 0.32277835, 0.33912155, 0.30949949, 0.29775281,\n",
       "        0.28498468, 0.3278856 , 0.31205312, 0.36516854, 0.36261491,\n",
       "        0.36823289, 0.37997957, 0.37589377, 0.37436159, 0.40398366,\n",
       "        0.42951992, 0.42339122, 0.42083759, 0.43105209, 0.47752809,\n",
       "        0.47293156, 0.47854954, 0.45965271, 0.43871297, 0.43207354,\n",
       "        0.42083759, 0.42594484, 0.4453524 , 0.42441267, 0.40704801,\n",
       "        0.4351379 , 0.45097038, 0.43564862, 0.42798774, 0.41419816,\n",
       "        0.40091931, 0.43462717, 0.44637385, 0.47037794, 0.4938713 ,\n",
       "        0.53575077, 0.52757916, 0.54443309, 0.51123596, 0.53932584]])"
      ]
     },
     "execution_count": 65,
     "metadata": {},
     "output_type": "execute_result"
    }
   ],
   "source": [
    "x_train, y_train = create_dataset(dataset_train)\n",
    "x_train[:1]"
   ]
  },
  {
   "cell_type": "code",
   "execution_count": 66,
   "id": "a2f3754d",
   "metadata": {},
   "outputs": [
    {
     "data": {
      "text/plain": [
       "array([[0.726762  , 0.73697651, 0.78396323, 0.76864147, 0.75995914,\n",
       "        0.7288049 , 0.73186925, 0.74668029, 0.75485189, 0.74616956,\n",
       "        0.73237998, 0.75229826, 0.75076609, 0.73442288, 0.67977528,\n",
       "        0.70020429, 0.68283963, 0.65168539, 0.62053115, 0.63432074,\n",
       "        0.67364658, 0.65832482, 0.659857  , 0.69918284, 0.72982635,\n",
       "        0.75485189, 0.75587334, 0.73595506, 0.76200204, 0.75229826,\n",
       "        0.75025536, 0.726762  , 0.7711951 , 0.79162411, 0.79826353,\n",
       "        0.78907048, 0.77068437, 0.7752809 , 0.77477017, 0.75383044,\n",
       "        0.71705822, 0.67824311, 0.69662921, 0.68998979, 0.71195097,\n",
       "        0.72165475, 0.70582227, 0.76813075, 0.73953013, 0.78447395,\n",
       "        0.87436159, 0.90449438, 0.94790603, 0.96475996, 0.95250255,\n",
       "        0.98110317, 0.94790603, 0.96220633, 0.92288049, 0.93207354]])"
      ]
     },
     "execution_count": 66,
     "metadata": {},
     "output_type": "execute_result"
    }
   ],
   "source": [
    "x_test, y_test = create_dataset(dataset_test)\n",
    "x_test[:1]"
   ]
  },
  {
   "cell_type": "code",
   "execution_count": 67,
   "id": "a918ffad",
   "metadata": {},
   "outputs": [],
   "source": [
    "# Reshape features for SimpleRNN Layer\n",
    "x_train = np.reshape(x_train, (x_train.shape[0], x_train.shape[1], 1))\n",
    "x_test = np.reshape(x_test, (x_test.shape[0], x_test.shape[1], 1))"
   ]
  },
  {
   "cell_type": "markdown",
   "id": "48842172",
   "metadata": {},
   "source": [
    "## Building Model"
   ]
  },
  {
   "cell_type": "code",
   "execution_count": 68,
   "id": "26071277",
   "metadata": {},
   "outputs": [],
   "source": [
    "model = Sequential()\n",
    "model.add(SimpleRNN(units=96, return_sequences=True, input_shape=(x_train.shape[1], 1)))\n",
    "model.add(Dropout(0.2))\n",
    "model.add(SimpleRNN(units=96, return_sequences=True))\n",
    "model.add(Dropout(0.2))\n",
    "model.add(SimpleRNN(units=96, return_sequences=True))\n",
    "model.add(Dropout(0.2))\n",
    "model.add(SimpleRNN(units=96))\n",
    "model.add(Dropout(0.2))\n",
    "model.add(Dense(units=1))"
   ]
  },
  {
   "cell_type": "code",
   "execution_count": 69,
   "id": "7f0843ad",
   "metadata": {},
   "outputs": [],
   "source": [
    "model.compile(loss='mean_squared_error', optimizer='adam')"
   ]
  },
  {
   "cell_type": "code",
   "execution_count": 70,
   "id": "8cecdb69",
   "metadata": {},
   "outputs": [],
   "source": [
    "if(not os.path.exists('stock_prediction.h5')):\n",
    "    model.fit(x_train, y_train, epochs=50, batch_size=32)\n",
    "    model.save('stock_prediction.h5')"
   ]
  },
  {
   "cell_type": "code",
   "execution_count": 71,
   "id": "aae07edc",
   "metadata": {},
   "outputs": [],
   "source": [
    "model = load_model('stock_prediction.h5')"
   ]
  },
  {
   "cell_type": "markdown",
   "id": "a7951312",
   "metadata": {},
   "source": [
    "## Visualizing Results"
   ]
  },
  {
   "cell_type": "code",
   "execution_count": 77,
   "id": "52511320",
   "metadata": {},
   "outputs": [
    {
     "name": "stdout",
     "output_type": "stream",
     "text": [
      "[[121.55]\n",
      " [120.9]\n",
      " [120.65]\n",
      " ...\n",
      " [214.6]\n",
      " [210.05]\n",
      " [213.8]]\n"
     ]
    },
    {
     "data": {
      "text/plain": [
       "<matplotlib.legend.Legend at 0x2463bb792b0>"
      ]
     },
     "execution_count": 77,
     "metadata": {},
     "output_type": "execute_result"
    },
    {
     "data": {
      "image/png": "[encoded data removed]",
      "text/plain": [
       "<Figure size 576x288 with 1 Axes>"
      ]
     },
     "metadata": {
      "needs_background": "light"
     },
     "output_type": "display_data"
    }
   ],
   "source": [
    "predictions = model.predict(x_test)\n",
    "predictions = scaler.inverse_transform(predictions)\n",
    "\n",
    "#df[\"Date\"]=pd.to_datetime(df.Date,format=\"%Y/%m/%d\")\n",
    "#df.index=df['Date']\n",
    "\n",
    "print(final_dataset)\n",
    "\n",
    "fig, ax = plt.subplots(figsize=(8,4))\n",
    "plt.plot(final_dataset, color='red',  label=\"True Price\")\n",
    "ax.plot(range(len(y_train)+50,len(y_train)+50+len(predictions)),predictions, color='blue', label='Predicted Testing Price')\n",
    "plt.legend()"
   ]
  },
  {
   "cell_type": "code",
   "execution_count": 73,
   "id": "f78f5c09",
   "metadata": {},
   "outputs": [
    {
     "data": {
      "text/plain": [
       "<matplotlib.legend.Legend at 0x2463695f250>"
      ]
     },
     "execution_count": 73,
     "metadata": {},
     "output_type": "execute_result"
    },
    {
     "data": {
      "image/png": "[encoded data removed]",
      "text/plain": [
       "<Figure size 576x288 with 1 Axes>"
      ]
     },
     "metadata": {
      "needs_background": "light"
     },
     "output_type": "display_data"
    }
   ],
   "source": [
    "y_test_scaled = scaler.inverse_transform(y_test.reshape(-1, 1))\n",
    "\n",
    "fig, ax = plt.subplots(figsize=(8,4))\n",
    "ax.plot(y_test_scaled, color='red', label='True Testing Price')\n",
    "plt.plot(predictions, color='blue', label='Predicted Testing Price')\n",
    "plt.legend()"
   ]
  },
  {
   "cell_type": "code",
   "execution_count": 17,
   "id": "2d616aab",
   "metadata": {},
   "outputs": [
    {
     "name": "stdout",
     "output_type": "stream",
     "text": [
      "[119.52492, 553.8407, 582.647, 614.43115, 622.7945, 628.86273, 631.4369, 632.9827, 633.78424, 634.2505, 634.5137, 634.6684, 634.7591, 634.8132, 634.8454, 634.86444, 634.87555, 634.8819, 634.8854, 634.88696, 634.8872, 634.88727, 634.88666, 634.8858, 634.885, 634.8842, 634.8834, 634.8827, 634.88196, 634.8813, 634.88074, 634.8802, 634.87994, 634.8795, 634.87915, 634.8788, 634.8784, 634.8782, 634.878, 634.8779, 634.8779, 634.8777, 634.8776, 634.87756, 634.87744, 634.8771, 634.8759, 634.8738, 634.8703, 634.86615, 634.86273, 634.87195, 634.872, 634.872, 634.872, 634.8719, 634.872, 634.87195, 634.8719, 634.87195, 634.8719, 634.8719, 634.8719, 634.8719, 634.8719, 634.8719, 634.8719, 634.87195, 634.8719, 634.87195, 634.87195, 634.8719, 634.87195, 634.87195, 634.8719, 634.8719, 634.87195, 634.8719, 634.872, 634.8719, 634.8719, 634.87195, 634.87195, 634.87195, 634.8719, 634.87195, 634.8719, 634.87195, 634.8719, 634.8719, 634.8719, 634.87195, 634.87195, 634.87195, 634.8719, 634.872, 634.87195, 634.87195, 634.87195, 634.8719]\n"
     ]
    }
   ],
   "source": [
    "x = x_test[-1]\n",
    "num_timesteps = 100\n",
    "preds = []\n",
    "for i in range(num_timesteps):\n",
    "    data = np.expand_dims(x, axis=0)\n",
    "    prediction = model.predict(data)\n",
    "    prediction = scaler.inverse_transform(prediction)\n",
    "    preds.append(prediction[0][0])\n",
    "    x = np.delete(x, 0, axis=0) # delete first row\n",
    "    x = np.vstack([x, prediction]) # add prediction\n",
    "\n",
    "print(preds)"
   ]
  },
  {
   "cell_type": "code",
   "execution_count": null,
   "id": "11cd0d2c",
   "metadata": {},
   "outputs": [],
   "source": []
  }
 ],
 "metadata": {
  "kernelspec": {
   "display_name": "Python 3 (ipykernel)",
   "language": "python",
   "name": "python3"
  },
  "language_info": {
   "codemirror_mode": {
    "name": "ipython",
    "version": 3
   },
   "file_extension": ".py",
   "mimetype": "text/x-python",
   "name": "python",
   "nbconvert_exporter": "python",
   "pygments_lexer": "ipython3",
   "version": "3.9.6"
  }
 },
 "nbformat": 4,
 "nbformat_minor": 5
}
